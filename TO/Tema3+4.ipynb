{
  "nbformat": 4,
  "nbformat_minor": 0,
  "metadata": {
    "kernelspec": {
      "display_name": "Python 3",
      "language": "python",
      "name": "python3"
    },
    "language_info": {
      "codemirror_mode": {
        "name": "ipython",
        "version": 3
      },
      "file_extension": ".py",
      "mimetype": "text/x-python",
      "name": "python",
      "nbconvert_exporter": "python",
      "pygments_lexer": "ipython3",
      "version": "3.7.6"
    },
    "colab": {
      "name": "Tema3+4.ipynb",
      "provenance": [],
      "collapsed_sections": []
    }
  },
  "cells": [
    {
      "cell_type": "markdown",
      "metadata": {
        "id": "ijftqr47EPTY"
      },
      "source": [
        "# Tema 3 - Metoda Simplex"
      ]
    },
    {
      "cell_type": "code",
      "metadata": {
        "id": "S4dCil-vEPTc"
      },
      "source": [
        "import numpy as np\n",
        "import math"
      ],
      "execution_count": null,
      "outputs": []
    },
    {
      "cell_type": "code",
      "metadata": {
        "id": "Mog1T_0bEPTf"
      },
      "source": [
        "def to_tableau(c, A, b):\n",
        "    xb = [eq + [x] for eq, x in zip(A, b)]\n",
        "    z = c + [0]\n",
        "    return xb + [z]"
      ],
      "execution_count": null,
      "outputs": []
    },
    {
      "cell_type": "code",
      "metadata": {
        "id": "e-yy8oobEPTg"
      },
      "source": [
        "def can_be_improved(tableau):\n",
        "    z = tableau[-1]\n",
        "    return any(x > 0 for x in z[:-1])"
      ],
      "execution_count": null,
      "outputs": []
    },
    {
      "cell_type": "code",
      "metadata": {
        "id": "pe1S0xhLEPTg"
      },
      "source": [
        "def get_pivot_position(tableau):\n",
        "    z = tableau[-1]\n",
        "    column = next(i for i, x in enumerate(z[:-1]) if x > 0)\n",
        "    \n",
        "    restrictions = []\n",
        "    for eq in tableau[:-1]:\n",
        "        el = eq[column]\n",
        "        restrictions.append(math.inf if el <= 0 else eq[-1] / el)\n",
        "        \n",
        "    if (all([r == math.inf for r in restrictions])):\n",
        "        raise Exception(\"Linear program is unbounded.\")\n",
        "\n",
        "    row = restrictions.index(min(restrictions))\n",
        "    return row, column"
      ],
      "execution_count": null,
      "outputs": []
    },
    {
      "cell_type": "code",
      "metadata": {
        "id": "AYll7_cgEPTh"
      },
      "source": [
        "def pivot_step(tableau, pivot_position):\n",
        "    new_tableau = [[] for eq in tableau]\n",
        "    \n",
        "    i, j = pivot_position\n",
        "    pivot_value = tableau[i][j]\n",
        "    new_tableau[i] = np.array(tableau[i]) / pivot_value\n",
        "    \n",
        "    for eq_i, eq in enumerate(tableau):\n",
        "        if eq_i != i:\n",
        "            multiplier = np.array(new_tableau[i]) * tableau[eq_i][j]\n",
        "            new_tableau[eq_i] = np.array(tableau[eq_i]) - multiplier\n",
        "   \n",
        "    return new_tableau"
      ],
      "execution_count": null,
      "outputs": []
    },
    {
      "cell_type": "code",
      "metadata": {
        "id": "xNa3WhqTEPTi"
      },
      "source": [
        "def is_basic(column):\n",
        "    return sum(column) == 1 and len([c for c in column if c == 0]) == len(column) - 1\n",
        "\n",
        "def get_solution(tableau):\n",
        "    columns = np.array(tableau).T\n",
        "    solutions = []\n",
        "    for column in columns[:-1]:\n",
        "        solution = 0\n",
        "        if is_basic(column):\n",
        "            one_index = column.tolist().index(1)\n",
        "            solution = columns[-1][one_index]\n",
        "        solutions.append(solution)\n",
        "        \n",
        "    return solutions"
      ],
      "execution_count": null,
      "outputs": []
    },
    {
      "cell_type": "code",
      "metadata": {
        "id": "nIvJr-9uEPTj"
      },
      "source": [
        "def simplex(c, A, b):\n",
        "    tableau = to_tableau(c, A, b)\n",
        "\n",
        "    while can_be_improved(tableau):\n",
        "        pivot_position = get_pivot_position(tableau)\n",
        "        tableau = pivot_step(tableau, pivot_position)\n",
        "\n",
        "    return get_solution(tableau)"
      ],
      "execution_count": null,
      "outputs": []
    },
    {
      "cell_type": "code",
      "metadata": {
        "id": "SRl58-aTEPTj"
      },
      "source": [
        "def to_objective_function_value(c, solution):\n",
        "    return sum(np.array(c) * np.array(solution))"
      ],
      "execution_count": null,
      "outputs": []
    },
    {
      "cell_type": "code",
      "metadata": {
        "colab": {
          "base_uri": "https://localhost:8080/"
        },
        "id": "M47NNg8jEPTk",
        "outputId": "a9c23fe0-7232-4b03-8f67-332230cea094"
      },
      "source": [
        "c = [2, 3, 0, 0, 0] # functia pe care dorim sa o maximizam 2*x1 + 3*x2\n",
        "A = [\n",
        "    [4, 8, 1, 0, 0],   # 4*x1 + 8*x2 + x3 <= 12\n",
        "    [2, 1, 0, 1, 0],   # 2*x1 + x2 + x4 <= 2\n",
        "    [3, 2, 0, 0, 1]    # 3*x1 + 2*x2 + x5 <= 4\n",
        "] \n",
        "b = [12, 3, 4]\n",
        "\n",
        "# afisam valorile x1, x2, x3, x4, x5\n",
        "solution = simplex(c, A, b)\n",
        "print('solution: ', solution)\n",
        "\n",
        "# afisam rezultatul functiei pe care am maximizat-o\n",
        "result = to_objective_function_value(c, simplex(c, A, b))\n",
        "print('Rezultatul este: ', result)"
      ],
      "execution_count": null,
      "outputs": [
        {
          "output_type": "stream",
          "text": [
            "solution:  [0.5, 1.25, 0, 0.75, 0]\n",
            "Primal:  4.75\n"
          ],
          "name": "stdout"
        }
      ]
    },
    {
      "cell_type": "markdown",
      "metadata": {
        "id": "j3evriAEEPTl"
      },
      "source": [
        "## Tema 4 - Metoda Duala"
      ]
    },
    {
      "cell_type": "code",
      "metadata": {
        "id": "BmaiGbBHEPTl"
      },
      "source": [
        "def can_be_improved_for_dual(tableau):\n",
        "    rhs_entries = [row[-1] for row in tableau[:-1]]\n",
        "    return any([entry < 0 for entry in rhs_entries])\n",
        "\n",
        "def get_pivot_position_for_dual(tableau):\n",
        "    rhs_entries = [row[-1] for row in tableau[:-1]]\n",
        "    min_rhs_value = min(rhs_entries)\n",
        "    row = rhs_entries.index(min_rhs_value)\n",
        "    \n",
        "    columns = []\n",
        "    for index, element in enumerate(tableau[row][:-1]):\n",
        "        if element < 0:\n",
        "            columns.append(index)\n",
        "    columns_values = [tableau[row][c] / tableau[-1][c] for c in columns]\n",
        "    column_min_index = columns_values.index(min(columns_values))\n",
        "    column = columns[column_min_index]\n",
        "\n",
        "    return row, column\n",
        "\n",
        "def dual_simplex(c, A, b):\n",
        "    tableau = to_tableau(c, A, b)\n",
        "\n",
        "    while can_be_improved_for_dual(tableau):\n",
        "        pivot_position = get_pivot_position_for_dual(tableau)\n",
        "        tableau = pivot_step(tableau, pivot_position)\n",
        "\n",
        "    return get_solution(tableau)"
      ],
      "execution_count": null,
      "outputs": []
    },
    {
      "cell_type": "code",
      "metadata": {
        "colab": {
          "base_uri": "https://localhost:8080/"
        },
        "id": "0Wy7Q6TFEPTm",
        "outputId": "d32246aa-7312-46bd-c7df-c4e94d1ddd1b"
      },
      "source": [
        "c = [12, 3, 4, 0, 0] # functia pe care dorim sa o minimizam 12*y1 + 3*y2 + 4*y3\n",
        "\n",
        "A = [\n",
        "    [-4, -2, -3,  1,  0],   # -4*y1 -2*y2 -3*y3 + y4 >= -2\n",
        "    [-8, -1, -2,  0,  1]    # -8*y1 -*y2 -2*y3 + y5 >= -3\n",
        "]\n",
        "b = [-2, -3]\n",
        "\n",
        "# afisam valorile y1, y2, y3, y4, y5\n",
        "solution = dual_simplex(c, A, b)\n",
        "print('solution: ', solution)\n",
        "\n",
        "result = to_objective_function_value(c, dual_simplex(c, A, b))\n",
        "print('Rezultatul este: ', result)"
      ],
      "execution_count": null,
      "outputs": [
        {
          "output_type": "stream",
          "text": [
            "solution:  [0.3125, 0, 0.25, 0, 0]\n",
            "Rezultatul este:  4.75\n"
          ],
          "name": "stdout"
        }
      ]
    },
    {
      "cell_type": "code",
      "metadata": {
        "colab": {
          "base_uri": "https://localhost:8080/",
          "height": 494
        },
        "id": "AyI6s1aWGqZT",
        "outputId": "1aae93cf-c709-4757-d42c-a93d5f73a654"
      },
      "source": [
        "!wget -nc https://raw.githubusercontent.com/brpy/colab-pdf/master/colab_pdf.py\n",
        "from colab_pdf import colab_pdf\n",
        "colab_pdf('Tema3+4.ipynb')"
      ],
      "execution_count": null,
      "outputs": [
        {
          "output_type": "stream",
          "text": [
            "--2021-04-19 12:29:03--  https://raw.githubusercontent.com/brpy/colab-pdf/master/colab_pdf.py\n",
            "Resolving raw.githubusercontent.com (raw.githubusercontent.com)... 185.199.108.133, 185.199.109.133, 185.199.110.133, ...\n",
            "Connecting to raw.githubusercontent.com (raw.githubusercontent.com)|185.199.108.133|:443... connected.\n",
            "HTTP request sent, awaiting response... 200 OK\n",
            "Length: 1864 (1.8K) [text/plain]\n",
            "Saving to: ‘colab_pdf.py’\n",
            "\n",
            "\rcolab_pdf.py          0%[                    ]       0  --.-KB/s               \rcolab_pdf.py        100%[===================>]   1.82K  --.-KB/s    in 0s      \n",
            "\n",
            "2021-04-19 12:29:03 (32.4 MB/s) - ‘colab_pdf.py’ saved [1864/1864]\n",
            "\n",
            "Mounted at /content/drive/\n",
            "\n",
            "WARNING: apt does not have a stable CLI interface. Use with caution in scripts.\n",
            "\n",
            "\n",
            "WARNING: apt does not have a stable CLI interface. Use with caution in scripts.\n",
            "\n",
            "Extracting templates from packages: 100%\n",
            "[NbConvertApp] Converting notebook /content/drive/My Drive/Colab Notebooks/Tema3+4.ipynb to pdf\n",
            "[NbConvertApp] Writing 36533 bytes to ./notebook.tex\n",
            "[NbConvertApp] Building PDF\n",
            "[NbConvertApp] Running xelatex 3 times: [u'xelatex', u'./notebook.tex', '-quiet']\n",
            "[NbConvertApp] Running bibtex 1 time: [u'bibtex', u'./notebook']\n",
            "[NbConvertApp] WARNING | bibtex had problems, most likely because there were no citations\n",
            "[NbConvertApp] PDF successfully created\n",
            "[NbConvertApp] Writing 32591 bytes to /content/drive/My Drive/Tema3+4.pdf\n"
          ],
          "name": "stdout"
        },
        {
          "output_type": "display_data",
          "data": {
            "application/javascript": [
              "\n",
              "    async function download(id, filename, size) {\n",
              "      if (!google.colab.kernel.accessAllowed) {\n",
              "        return;\n",
              "      }\n",
              "      const div = document.createElement('div');\n",
              "      const label = document.createElement('label');\n",
              "      label.textContent = `Downloading \"${filename}\": `;\n",
              "      div.appendChild(label);\n",
              "      const progress = document.createElement('progress');\n",
              "      progress.max = size;\n",
              "      div.appendChild(progress);\n",
              "      document.body.appendChild(div);\n",
              "\n",
              "      const buffers = [];\n",
              "      let downloaded = 0;\n",
              "\n",
              "      const channel = await google.colab.kernel.comms.open(id);\n",
              "      // Send a message to notify the kernel that we're ready.\n",
              "      channel.send({})\n",
              "\n",
              "      for await (const message of channel.messages) {\n",
              "        // Send a message to notify the kernel that we're ready.\n",
              "        channel.send({})\n",
              "        if (message.buffers) {\n",
              "          for (const buffer of message.buffers) {\n",
              "            buffers.push(buffer);\n",
              "            downloaded += buffer.byteLength;\n",
              "            progress.value = downloaded;\n",
              "          }\n",
              "        }\n",
              "      }\n",
              "      const blob = new Blob(buffers, {type: 'application/binary'});\n",
              "      const a = document.createElement('a');\n",
              "      a.href = window.URL.createObjectURL(blob);\n",
              "      a.download = filename;\n",
              "      div.appendChild(a);\n",
              "      a.click();\n",
              "      div.remove();\n",
              "    }\n",
              "  "
            ],
            "text/plain": [
              "<IPython.core.display.Javascript object>"
            ]
          },
          "metadata": {
            "tags": []
          }
        },
        {
          "output_type": "display_data",
          "data": {
            "application/javascript": [
              "download(\"download_cedd50fb-48d3-4387-85ce-08043b162cb8\", \"Tema3+4.pdf\", 32591)"
            ],
            "text/plain": [
              "<IPython.core.display.Javascript object>"
            ]
          },
          "metadata": {
            "tags": []
          }
        },
        {
          "output_type": "execute_result",
          "data": {
            "application/vnd.google.colaboratory.intrinsic+json": {
              "type": "string"
            },
            "text/plain": [
              "'File ready to be Downloaded and Saved to Drive'"
            ]
          },
          "metadata": {
            "tags": []
          },
          "execution_count": 13
        }
      ]
    }
  ]
}
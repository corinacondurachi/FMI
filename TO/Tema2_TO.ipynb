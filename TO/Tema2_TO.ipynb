{
 "cells": [
  {
   "cell_type": "markdown",
   "metadata": {
    "id": "A6ZmXNWI7Y0w"
   },
   "source": [
    "#Tema 2"
   ]
  },
  {
   "cell_type": "markdown",
   "metadata": {
    "id": "9m2PYog87jTK"
   },
   "source": [
    "## 1. Inversa unei matrici"
   ]
  },
  {
   "cell_type": "code",
   "execution_count": 1,
   "metadata": {
    "id": "u-M0m4FV7kKb"
   },
   "outputs": [],
   "source": [
    "# Vom folosi metoda Gaus pentru a calcula inversa unei matrici\n",
    "\n",
    "import numpy as np\n",
    "\n",
    "def gaus_pivotare_partiala(m):\n",
    "    # nr de linii\n",
    "    n = m.shape[0]\n",
    "    #M = M.copy()\n",
    "\n",
    "    for k in range(n - 1):\n",
    "        pivot = m[k, k]\n",
    "        \n",
    "        # Ma asigur ca fiecare rand incepe cu 1\n",
    "        if pivot != 1:\n",
    "            m[k] *= 1/pivot\n",
    "\n",
    "        # Determin raportul pentru fiecare rand\n",
    "        ratie = m[k + 1:, k] / m[k, k]\n",
    "\n",
    "        linie = m[k, :]\n",
    "\n",
    "        # Inmultesc fiecare raport cu primul rand \n",
    "        diferenta = np.outer(ratie, linie)\n",
    "\n",
    "        # Actualizez matricea\n",
    "        m[k + 1:, :] -= diferenta\n",
    "\n",
    "    return m\n",
    "\n",
    "\n",
    "def inversa_matrice(a):\n",
    "    # nr de linii\n",
    "    n = a.shape[0]\n",
    "    \n",
    "    # adaug la matricea a, matricea identitate\n",
    "    m = np.hstack((a, np.eye(3)))\n",
    "    \n",
    "    # aplic gaus cu pivotare partiala\n",
    "    u = gaus_pivotare_partiala(m)\n",
    "\n",
    "    # formez I3 in primele 3 coloane\n",
    "    for i in range(1, n):\n",
    "        for j in range(i):\n",
    "            ratie = u[j, i] / u[i, i]\n",
    "            u[j] -= ratie * u[i, :]\n",
    "    \n",
    "    # acum ca partea din stanga este chiar I3, partea din dreapta va fi chiar inversa matricei\n",
    "    return u[:, n:]"
   ]
  },
  {
   "cell_type": "code",
   "execution_count": 2,
   "metadata": {
    "id": "9nS6r6sw9Hl6"
   },
   "outputs": [
    {
     "name": "stdout",
     "output_type": "stream",
     "text": [
      "[[ 0.375  0.125  0.375]\n",
      " [-0.875  0.375  0.125]\n",
      " [ 1.    -1.     1.   ]]\n"
     ]
    }
   ],
   "source": [
    "m = np.array([[1, -1, 1], [2, 0, 3], [1, 1, -2]], dtype=np.float)\n",
    "\n",
    "inversa = inversa_matrice(m)\n",
    "\n",
    "print(inversa)"
   ]
  },
  {
   "cell_type": "markdown",
   "metadata": {
    "id": "t3_H06MA-mOq"
   },
   "source": [
    "##2. Lema Substitutiei"
   ]
  },
  {
   "cell_type": "code",
   "execution_count": 11,
   "metadata": {
    "id": "Sf3VkGIP-qux"
   },
   "outputs": [
    {
     "name": "stdout",
     "output_type": "stream",
     "text": [
      "Inversa lui m_tilda este:\n",
      "[[ 1. -2.  0.]\n",
      " [ 0.  1.  0.]\n",
      " [ 0. -1.  1.]]\n"
     ]
    }
   ],
   "source": [
    "m = np.array([[1, 0, 0],[0, 2, 0],[0, 0, 1]])\n",
    "\n",
    "# nr linii matrice\n",
    "n = m.shape[0]\n",
    "\n",
    "# calculez inversa matricei\n",
    "inversa = inversa_matrice(m)\n",
    "\n",
    "C = np.array([2, 1, 1], dtype=np.float)\n",
    "\n",
    "# aleg un k intre 1 si n\n",
    "k = 1\n",
    "\n",
    "# calculez m_tilda ca fiind m, dar avand coloana k cu C\n",
    "m_tilda = m.copy()\n",
    "m_tilda[:, k] = C\n",
    "\n",
    "# calculez y ca fiind inversa*C\n",
    "y = inversa @ C\n",
    "\n",
    "# calculez eta\n",
    "eta = -y / y[k]\n",
    "eta[k] = 1 / y[k]\n",
    "\n",
    "# calculez E_k ca fiind I3, avand coloana k inlocuita cu eta\n",
    "E_k = np.eye(n)\n",
    "E_k[:, k] = eta\n",
    "\n",
    "m_tilda_inv = E_k @ inversa\n",
    "\n",
    "print(\"Inversa lui m_tilda este:\")\n",
    "print(m_tilda_inv)"
   ]
  }
 ],
 "metadata": {
  "colab": {
   "collapsed_sections": [],
   "name": "Untitled3.ipynb",
   "provenance": []
  },
  "kernelspec": {
   "display_name": "Python 3",
   "language": "python",
   "name": "python3"
  },
  "language_info": {
   "codemirror_mode": {
    "name": "ipython",
    "version": 3
   },
   "file_extension": ".py",
   "mimetype": "text/x-python",
   "name": "python",
   "nbconvert_exporter": "python",
   "pygments_lexer": "ipython3",
   "version": "3.7.6"
  }
 },
 "nbformat": 4,
 "nbformat_minor": 1
}

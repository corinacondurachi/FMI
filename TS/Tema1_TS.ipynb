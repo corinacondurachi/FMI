{
 "cells": [
  {
   "cell_type": "markdown",
   "metadata": {
    "id": "aTdaLdupIgxl"
   },
   "source": [
    "# Estimarea Probabilitatii de Zaruri Duble\n",
    "\n",
    " Avand in vedere ca un zar are 6 fete, exista 36 de cazuri totale atunci cand sunt aruncate doua zaruri. Numarul cazurilor favorabile, cele in care se va nimeri ca cele doua numere sa fie egale, este 6. Deci, probabilitatea de a nimeri zaruri duble este 6/36 = 1/6. \n",
    "\n",
    "<br>\n",
    "\n",
    "Cu ajutorul algoritmului Monte Carlo, vom genera numere aleatoare intre 1 si 6 si vom calcula de cate ori se nimereste ca cele doua sa fie egale. Dupa ce vom avea 5000 de generari, vom calcula probabilitatea obtinuta cu ajutorul algoritmului Monte Carlo. "
   ]
  },
  {
   "cell_type": "code",
   "execution_count": 2,
   "metadata": {
    "id": "1JhhJ0eZLU9n"
   },
   "outputs": [],
   "source": [
    "import random\n",
    "import numpy as np\n",
    "import matplotlib.pyplot as plt"
   ]
  },
  {
   "cell_type": "markdown",
   "metadata": {
    "id": "bnkRwIAELdSx"
   },
   "source": [
    "Definim o functie care determina doua valori random intre 1 si 6. Aceste valori corespund valorile celor doua zaruri. Comparam cele doua valori rezultate si daca sune egale returnam 1, daca nu, returnam 0."
   ]
  },
  {
   "cell_type": "code",
   "execution_count": 3,
   "metadata": {
    "id": "WbNERAvHLYFK"
   },
   "outputs": [],
   "source": [
    "def dubla():\n",
    "    # prima valoare corespunde valorii primului zar\n",
    "    a = random.randint(1,6)\n",
    "    # cea de-a doua valoare corespunde valorii celui de-al doilea zar\n",
    "    b = random.randint(1,6)\n",
    "    \n",
    "    # verificam daca sunt egale (daca am nimerit dubla)\n",
    "    if a == b:\n",
    "        # daca da, returnam 1 - succes\n",
    "        return 1\n",
    "    else:\n",
    "        # daca nu, returnam 0 - esec\n",
    "        return 0"
   ]
  },
  {
   "cell_type": "markdown",
   "metadata": {
    "id": "SLhkP4WcMBrx"
   },
   "source": [
    "Aplicam algorimtmul de n ori. Calculam de cate ori am obtinut dubla si impartim valoarea la nr total de incercari (n). Rezultatele vor putea fi observate si in graficul de mai jos."
   ]
  },
  {
   "cell_type": "code",
   "execution_count": 4,
   "metadata": {
    "id": "Cwvh5QIxMI0M"
   },
   "outputs": [],
   "source": [
    "l = []\n",
    "\n",
    "def monte_carlo(n):\n",
    "    # retinem de cate ori am obtinut zaruri duble\n",
    "    results = 0\n",
    "    \n",
    "    for i in range(n):\n",
    "        # extragem rezultatul, 1 - dubla, 0 - altfel\n",
    "        result = dubla()\n",
    "        # adunam rezultatul la total\n",
    "        results = results + result\n",
    "        # calculam probabilitatea pana in acest punct\n",
    "        prob = results/(i+1)\n",
    "        # retinem probabilitatea pana in acest punct\n",
    "        l.append(prob)\n",
    "        \n",
    "        #Construim Graficul\n",
    "\n",
    "        # probabilitatea ideala, 1/6\n",
    "        plt.axhline(y = 1/6, color = 'r', linestyle = '-')\n",
    "        plt.xlabel(\"Iteratii\")\n",
    "        plt.ylabel('Probabilitate')\n",
    "        # afisam graficul\n",
    "        plt.plot(l)\n",
    "        \n",
    "    # returnam probabilitatea finala (Monte Carlo)\n",
    "    return results/n"
   ]
  },
  {
   "cell_type": "markdown",
   "metadata": {
    "id": "gq1FQ28BM5-Z"
   },
   "source": [
    "Afisam rezultatul teoretic (1/6) si rezultatul practic obtinut cu Monte Carlo.\n"
   ]
  },
  {
   "cell_type": "code",
   "execution_count": 5,
   "metadata": {
    "id": "SgbU1cRGM9Ez"
   },
   "outputs": [
    {
     "name": "stdout",
     "output_type": "stream",
     "text": [
      "Rezultatul teoretic ar fi: 0.16666666666666666\n",
      "Rezultatul final obtinut cu metoda Monte Carlo este: 0.1608\n"
     ]
    },
    {
     "data": {
      "image/png": "[encoded data removed]",
      "text/plain": [
       "<Figure size 432x288 with 1 Axes>"
      ]
     },
     "metadata": {
      "needs_background": "light"
     },
     "output_type": "display_data"
    }
   ],
   "source": [
    "# aplicam Monte Carlo pentru 5000 de generari random\n",
    "n = 5000\n",
    "answer = monte_carlo(n)\n",
    "print(\"Rezultatul teoretic ar fi:\", 1/6)\n",
    "\n",
    "# afisam rezultatul final \n",
    "print(\"Rezultatul final obtinut cu metoda Monte Carlo este:\", answer)"
   ]
  }
 ],
 "metadata": {
  "colab": {
   "collapsed_sections": [],
   "name": "Untitled2.ipynb",
   "provenance": []
  },
  "kernelspec": {
   "display_name": "Python 3",
   "language": "python",
   "name": "python3"
  },
  "language_info": {
   "codemirror_mode": {
    "name": "ipython",
    "version": 3
   },
   "file_extension": ".py",
   "mimetype": "text/x-python",
   "name": "python",
   "nbconvert_exporter": "python",
   "pygments_lexer": "ipython3",
   "version": "3.7.6"
  }
 },
 "nbformat": 4,
 "nbformat_minor": 1
}

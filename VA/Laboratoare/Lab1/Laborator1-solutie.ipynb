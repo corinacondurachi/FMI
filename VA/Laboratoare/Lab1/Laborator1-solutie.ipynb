{
 "cells": [
  {
   "cell_type": "markdown",
   "metadata": {},
   "source": [
    "# Laborator 1"
   ]
  },
  {
   "cell_type": "code",
   "execution_count": 10,
   "metadata": {},
   "outputs": [],
   "source": [
    "import numpy as np\n",
    "import cv2 as cv\n",
    "import matplotlib.pyplot as plt"
   ]
  },
  {
   "cell_type": "code",
   "execution_count": 2,
   "metadata": {},
   "outputs": [
    {
     "name": "stdout",
     "output_type": "stream",
     "text": [
      "670 626\n"
     ]
    }
   ],
   "source": [
    "img = cv.imread(\"C:\\\\Users\\\\Bogdan\\\\Desktop\\\\Laborator1\\\\Laborator1\\\\butterfly.jpeg\",cv.IMREAD_GRAYSCALE)\n",
    "cv.imshow(\"Fluture galben\",img)\n",
    "cv.waitKey(0)\n",
    "cv.destroyAllWindows()\n",
    "H, W = img.shape\n",
    "print(H,W)"
   ]
  },
  {
   "cell_type": "code",
   "execution_count": 12,
   "metadata": {},
   "outputs": [
    {
     "name": "stdout",
     "output_type": "stream",
     "text": [
      "uint8\n",
      "(100, 100)\n"
     ]
    }
   ],
   "source": [
    "img = cv.resize(cv.cvtColor(cv.imread(\"C:\\\\Users\\\\Bogdan\\\\Desktop\\\\Laborator1\\\\Laborator1\\\\football.jpg\"), cv.COLOR_BGR2GRAY),(100, 100))\n",
    "#img = cv.imread(\"C:\\\\Users\\\\Bogdan\\\\Desktop\\\\Laborator1\\\\Laborator1\\\\football.jpg\")\n",
    "print(img.dtype)\n",
    "print(img.shape)\n",
    "cv.imshow(\"Football\",img)\n",
    "cv.waitKey(0)\n",
    "cv.destroyAllWindows()\n",
    "H, W = img.shape"
   ]
  },
  {
   "cell_type": "code",
   "execution_count": 11,
   "metadata": {},
   "outputs": [
    {
     "name": "stdout",
     "output_type": "stream",
     "text": [
      "[ 19  19  20 ... 254 254 254]\n"
     ]
    },
    {
     "data": {
      "image/png": "[encoded data removed]",
      "text/plain": [
       "<Figure size 432x288 with 1 Axes>"
      ]
     },
     "metadata": {
      "needs_background": "light"
     },
     "output_type": "display_data"
    }
   ],
   "source": [
    "#a\n",
    "x = np.sort(img.flatten())\n",
    "print(x)\n",
    "plt.plot(np.arange(len(x)),x)\n",
    "plt.show()"
   ]
  },
  {
   "cell_type": "code",
   "execution_count": 13,
   "metadata": {},
   "outputs": [],
   "source": [
    "#b\n",
    "A = img[50:,50:].copy()\n",
    "cv.imshow(\"Subimagine dreapta jos\",A)\n",
    "cv.waitKey(0)\n",
    "cv.destroyAllWindows()"
   ]
  },
  {
   "cell_type": "code",
   "execution_count": 14,
   "metadata": {},
   "outputs": [
    {
     "name": "stdout",
     "output_type": "stream",
     "text": [
      "65.0\n"
     ]
    }
   ],
   "source": [
    "#c\n",
    "t = np.median(x)\n",
    "print(t)"
   ]
  },
  {
   "cell_type": "code",
   "execution_count": 16,
   "metadata": {},
   "outputs": [],
   "source": [
    "#d\n",
    "B = img.copy()\n",
    "B[B<t] = 0\n",
    "B[B >=t] = 255\n",
    "cv.imshow(\"B\",B)\n",
    "cv.waitKey(0)\n",
    "cv.destroyAllWindows()"
   ]
  },
  {
   "cell_type": "code",
   "execution_count": 23,
   "metadata": {},
   "outputs": [
    {
     "name": "stdout",
     "output_type": "stream",
     "text": [
      "uint8\n",
      "float64\n",
      "0\n",
      "179\n",
      "uint8\n"
     ]
    }
   ],
   "source": [
    "#e\n",
    "intensitate_medie = img.mean()\n",
    "#print(intensitate_medie)\n",
    "print(img.dtype)\n",
    "print(intensitate_medie.dtype)\n",
    "C = (img - intensitate_medie)\n",
    "C[C<0] = 0\n",
    "C = np.uint8(C)\n",
    "print(C.min())\n",
    "print(C.max())\n",
    "print(C.dtype)\n",
    "cv.imshow(\"C\",C)\n",
    "cv.waitKey(0)\n",
    "cv.destroyAllWindows()"
   ]
  },
  {
   "cell_type": "code",
   "execution_count": 28,
   "metadata": {},
   "outputs": [
    {
     "name": "stdout",
     "output_type": "stream",
     "text": [
      "[76 88] [68 50]\n",
      "19\n",
      "19\n"
     ]
    }
   ],
   "source": [
    "intensitate_minima = img.min()\n",
    "linie,coloana = np.where(img == intensitate_minima)\n",
    "print(linie, coloana)\n",
    "print(img[76][68])\n",
    "print(img[88][50])"
   ]
  },
  {
   "cell_type": "markdown",
   "metadata": {},
   "source": [
    "# Imaginea medie a unei colectii de imagini"
   ]
  },
  {
   "cell_type": "code",
   "execution_count": 29,
   "metadata": {},
   "outputs": [],
   "source": [
    "import os"
   ]
  },
  {
   "cell_type": "code",
   "execution_count": 38,
   "metadata": {},
   "outputs": [
    {
     "name": "stdout",
     "output_type": "stream",
     "text": [
      "(100, 164, 398)\n",
      "(164, 398, 3)\n",
      "(164, 398)\n"
     ]
    }
   ],
   "source": [
    "dir_path = \"C:\\\\Users\\\\Bogdan\\\\Desktop\\\\Laborator1\\\\Laborator1\\\\colectiiImagini\\\\colectiiImagini\\\\set2\\\\\"\n",
    "filenames = os.listdir(dir_path)\n",
    "#print(filenames)\n",
    "#print(len(filenames))\n",
    "color_images = []\n",
    "gray_images = []\n",
    "for image_name in filenames:\n",
    "    img_current = cv.imread(dir_path + image_name)\n",
    "    color_images.append(img_current)\n",
    "    gray_images.append(cv.cvtColor(img_current,cv.COLOR_BGR2GRAY))\n",
    "    #cv.imshow(\"img curenta\",img_current)\n",
    "    #cv.waitKey(500)\n",
    "    #cv.destroyAllWindows()\n",
    "color_images = np.array(color_images)\n",
    "gray_images = np.array(gray_images)\n",
    "\n",
    "mean_color_image = np.uint8(np.mean(color_images,axis=0))\n",
    "print(gray_images.shape)\n",
    "mean_gray_image = np.uint8(np.mean(gray_images,axis=0))\n",
    "print(mean_color_image.shape)\n",
    "\n",
    "X = np.uint8(np.std(gray_images,axis=0))\n",
    "cv.imshow(\"imagine medie color\",mean_color_image)\n",
    "cv.waitKey(0)\n",
    "print(mean_gray_image.shape)\n",
    "cv.imshow(\"imagine medie gri\",mean_gray_image)\n",
    "cv.waitKey(0)\n",
    "\n",
    "cv.imshow(\"deviatia standard\",X)\n",
    "cv.waitKey(0)\n",
    "\n",
    "\n",
    "cv.destroyAllWindows()"
   ]
  },
  {
   "cell_type": "markdown",
   "metadata": {},
   "source": [
    "# Modificarea unei imagini"
   ]
  },
  {
   "cell_type": "code",
   "execution_count": 39,
   "metadata": {},
   "outputs": [
    {
     "name": "stdout",
     "output_type": "stream",
     "text": [
      "(670, 626, 3)\n"
     ]
    }
   ],
   "source": [
    "img = cv.imread(\"C:\\\\Users\\\\Bogdan\\\\Desktop\\\\Laborator1\\\\Laborator1\\\\butterfly.jpeg\")\n",
    "print(img.shape)"
   ]
  },
  {
   "cell_type": "code",
   "execution_count": 48,
   "metadata": {},
   "outputs": [
    {
     "name": "stdout",
     "output_type": "stream",
     "text": [
      "(20, 20, 3)\n"
     ]
    }
   ],
   "source": [
    "window_size = 20\n",
    "img_crop = img[250:250+window_size,250:250+window_size,:].copy()\n",
    "cv.imshow(\"Img crop\", img_crop)\n",
    "cv.waitKey(0)\n",
    "cv.destroyAllWindows()\n",
    "print(img_crop.shape)"
   ]
  },
  {
   "cell_type": "code",
   "execution_count": 92,
   "metadata": {},
   "outputs": [],
   "source": [
    "nb_windows = 150000\n",
    "H,W,c = img.shape\n",
    "#coltul din stanga sus e parametrizat de (y,x)\n",
    "y = np.random.randint(0,H-window_size+1,size=(nb_windows,))\n",
    "x = np.random.randint(0,W-window_size+1,size=(nb_windows,))"
   ]
  },
  {
   "cell_type": "code",
   "execution_count": 93,
   "metadata": {},
   "outputs": [
    {
     "name": "stdout",
     "output_type": "stream",
     "text": [
      "584.0710573209393\n",
      "584.0710573209393\n"
     ]
    },
    {
     "data": {
      "text/plain": [
       "True"
      ]
     },
     "execution_count": 93,
     "metadata": {},
     "output_type": "execute_result"
    }
   ],
   "source": [
    "distances = np.zeros(nb_windows)\n",
    "for i in range(nb_windows):\n",
    "    img_window = img[y[i]:y[i]+window_size,x[i]:x[i]+window_size,:].copy()\n",
    "    # distanta l2\n",
    "    distances[i] = np.sqrt(np.sum((np.float64(img_window) - np.float64(img_crop))**2))\n",
    "    \n",
    "idx = np.argmin(distances)\n",
    "print(distances.min())\n",
    "print(distances[idx])\n",
    "img_reconstruita = img.copy()\n",
    "img_reconstruita[250:250+window_size,250:250+window_size,:] = img[y[idx]:y[idx]+window_size,x[idx]:x[idx]+window_size,:].copy()\n",
    "cv.imshow(\"Imaginea reconstruita\",img_reconstruita)\n",
    "cv.waitKey(0)\n",
    "cv.destroyAllWindows()\n",
    "cv.imwrite(\"C:\\\\Users\\\\Bogdan\\\\Desktop\\\\Laborator1\\\\Laborator1\\\\butterfly_reconstruit.jpeg\",img_reconstruita)"
   ]
  },
  {
   "cell_type": "code",
   "execution_count": null,
   "metadata": {},
   "outputs": [],
   "source": []
  }
 ],
 "metadata": {
  "kernelspec": {
   "display_name": "Python 3",
   "language": "python",
   "name": "python3"
  },
  "language_info": {
   "codemirror_mode": {
    "name": "ipython",
    "version": 3
   },
   "file_extension": ".py",
   "mimetype": "text/x-python",
   "name": "python",
   "nbconvert_exporter": "python",
   "pygments_lexer": "ipython3",
   "version": "3.7.1"
  }
 },
 "nbformat": 4,
 "nbformat_minor": 2
}

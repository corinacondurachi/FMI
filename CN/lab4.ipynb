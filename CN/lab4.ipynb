{
 "cells": [
  {
   "cell_type": "code",
   "execution_count": 172,
   "metadata": {},
   "outputs": [],
   "source": [
    "import numpy as np\n",
    "A = np.array([[2., -1., -2.], [4., 2., 0.], [0., -2., -1.]])\n",
    "B = np.array([[-1.], [6.],[-3.]])\n",
    "A_extins = np.concatenate((A, B), axis=1)"
   ]
  },
  {
   "cell_type": "code",
   "execution_count": 173,
   "metadata": {},
   "outputs": [],
   "source": [
    "def metoda_gaus(A, n):\n",
    "    for k in range (0,n-1):\n",
    "        for l in range(k + 1, n):\n",
    "            raport = A[l,k]/A[k,k]\n",
    "            A[l] = A[l] - raport * A[k] "
   ]
  },
  {
   "cell_type": "code",
   "execution_count": 174,
   "metadata": {},
   "outputs": [],
   "source": [
    "metoda_gaus(A_extins,3)"
   ]
  },
  {
   "cell_type": "code",
   "execution_count": 175,
   "metadata": {},
   "outputs": [
    {
     "name": "stdout",
     "output_type": "stream",
     "text": [
      "[[ 2. -1. -2. -1.]\n",
      " [ 0.  4.  4.  8.]\n",
      " [ 0.  0.  1.  1.]]\n"
     ]
    }
   ],
   "source": [
    "print(A_extins)"
   ]
  },
  {
   "cell_type": "code",
   "execution_count": 176,
   "metadata": {},
   "outputs": [
    {
     "name": "stdout",
     "output_type": "stream",
     "text": [
      "[[ 2. -1. -2.]\n",
      " [ 0.  4.  4.]\n",
      " [ 0.  0.  1.]]\n"
     ]
    }
   ],
   "source": [
    "C = A_extins[:,-1]\n",
    "U = A_extins[:,:-1]\n",
    "print(U)"
   ]
  },
  {
   "cell_type": "code",
   "execution_count": 177,
   "metadata": {},
   "outputs": [],
   "source": [
    "x =np.array([[0.], [0.],[0.]])\n",
    "def sis_triunghiular_superior(U,C,n):\n",
    "    for k in range (n-1,-1, -1):\n",
    "        suma = 0\n",
    "        for j in range (k+1, n):\n",
    "            suma += U[k][j] * x[j]\n",
    "        x[k] = (C[k] - suma) / U[k][k]\n",
    "    return x"
   ]
  },
  {
   "cell_type": "code",
   "execution_count": 178,
   "metadata": {},
   "outputs": [
    {
     "name": "stdout",
     "output_type": "stream",
     "text": [
      "[[1.]\n",
      " [1.]\n",
      " [1.]]\n"
     ]
    }
   ],
   "source": [
    "n = 3\n",
    "x = sis_triunghiular_superior(U,C,n)\n",
    "print(x)"
   ]
  },
  {
   "cell_type": "code",
   "execution_count": 167,
   "metadata": {},
   "outputs": [
    {
     "data": {
      "text/plain": [
       "array([[-1.],\n",
       "       [ 8.],\n",
       "       [ 1.]])"
      ]
     },
     "execution_count": 167,
     "metadata": {},
     "output_type": "execute_result"
    }
   ],
   "source": [
    "np.dot(U,x)"
   ]
  },
  {
   "cell_type": "code",
   "execution_count": null,
   "metadata": {},
   "outputs": [],
   "source": []
  }
 ],
 "metadata": {
  "kernelspec": {
   "display_name": "Python 3",
   "language": "python",
   "name": "python3"
  },
  "language_info": {
   "codemirror_mode": {
    "name": "ipython",
    "version": 3
   },
   "file_extension": ".py",
   "mimetype": "text/x-python",
   "name": "python",
   "nbconvert_exporter": "python",
   "pygments_lexer": "ipython3",
   "version": "3.7.6"
  }
 },
 "nbformat": 4,
 "nbformat_minor": 4
}

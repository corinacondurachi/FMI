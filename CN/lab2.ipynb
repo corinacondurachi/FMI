{
 "cells": [
  {
   "cell_type": "code",
   "execution_count": 26,
   "metadata": {},
   "outputs": [
    {
     "name": "stdout",
     "output_type": "stream",
     "text": [
      "0.5857864376269051\n",
      "2.999999999999999\n",
      "3.414213562373097\n"
     ]
    }
   ],
   "source": [
    "import numpy as np\n",
    "import matplotlib.pyplot as plt\n",
    "import math\n",
    "import random\n",
    "\n",
    "def bisection_search(f, a, b, epsilon=1e-7):\n",
    "\n",
    "    # Calculăm valorile în capete\n",
    "    f_a = f(a)\n",
    "    f_b = f(b)\n",
    "\n",
    "    # Trebuie să aibă semne diferite pentru această metodă\n",
    "    assert f_a * f_b < 0\n",
    "    x0 = random.uniform(a,b)\n",
    "    x1 = x0 - f(x0)/ f_der(x0)\n",
    "    \n",
    "    while abs(x1 - x0)/abs(x0) >= epsilon:\n",
    "        x0 = x1\n",
    "        x1 = x0 - f(x0)/ f_der(x0)\n",
    "    \n",
    "    return x1\n",
    "\n",
    "\n",
    "f = lambda x: (x ** 3) - 7 * (x ** 2) + 14 * x - 6\n",
    "\n",
    "f_der = lambda x: 3 * (x ** 2) - 14 * x + 14 \n",
    "\n",
    "f_der2 = lambda x: 6 * x - 14 \n",
    "\n",
    "\n",
    "\n",
    "# Căutăm pe intervalele date\n",
    "a = bisection_search(f, 0, 1.45)\n",
    "b = bisection_search(f, 1.45, 3.21)\n",
    "c = bisection_search(f, 3.21, 4)\n",
    "print(a)\n",
    "print(b)\n",
    "print(c)\n"
   ]
  },
  {
   "cell_type": "code",
   "execution_count": 34,
   "metadata": {},
   "outputs": [
    {
     "data": {
      "image/png": "[encoded data removed]",
      "text/plain": [
       "<Figure size 432x288 with 1 Axes>"
      ]
     },
     "metadata": {
      "needs_background": "light"
     },
     "output_type": "display_data"
    }
   ],
   "source": [
    "## Afișez rezultatul\n",
    "\n",
    "# Configurez axele\n",
    "ax.spines['bottom'].set_position('zero')\n",
    "ax.spines['top'].set_color('none')\n",
    "ax.spines['right'].set_color('none')\n",
    "\n",
    "# Generez punctele\n",
    "x = np.linspace(start=0, stop=5, num=1000)\n",
    "\n",
    "plt.axhline(0, c='black') \n",
    "# Desenez graficul funcției\n",
    "plt.plot(x, f(x), '-.')\n",
    "\n",
    "# Desenez soluțiile\n",
    "plt.scatter([a, b, c], [0, 0, 0], c='red')\n",
    "\n",
    "plt.show()"
   ]
  },
  {
   "cell_type": "code",
   "execution_count": null,
   "metadata": {},
   "outputs": [],
   "source": []
  }
 ],
 "metadata": {
  "kernelspec": {
   "display_name": "Python 3",
   "language": "python",
   "name": "python3"
  },
  "language_info": {
   "codemirror_mode": {
    "name": "ipython",
    "version": 3
   },
   "file_extension": ".py",
   "mimetype": "text/x-python",
   "name": "python",
   "nbconvert_exporter": "python",
   "pygments_lexer": "ipython3",
   "version": "3.7.6"
  }
 },
 "nbformat": 4,
 "nbformat_minor": 4
}
